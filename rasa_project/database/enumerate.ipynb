{
 "cells": [
  {
   "cell_type": "code",
   "execution_count": 20,
   "id": "181a0f56",
   "metadata": {},
   "outputs": [],
   "source": [
    "import pandas as pd\n",
    "from yaml import dump"
   ]
  },
  {
   "cell_type": "code",
   "execution_count": 21,
   "id": "56421c65",
   "metadata": {},
   "outputs": [
    {
     "data": {
      "application/vnd.microsoft.datawrangler.viewer.v0+json": {
       "columns": [
        {
         "name": "Descrição dos alimentos",
         "rawType": "object",
         "type": "string"
        },
        {
         "name": "Energia (kcal)",
         "rawType": "object",
         "type": "string"
        },
        {
         "name": "Proteína (g)",
         "rawType": "object",
         "type": "string"
        },
        {
         "name": "Lipídeos (g)",
         "rawType": "object",
         "type": "string"
        },
        {
         "name": "Carboidrato (g)",
         "rawType": "object",
         "type": "string"
        },
        {
         "name": "Fibra Alimentar (g)",
         "rawType": "object",
         "type": "string"
        }
       ],
       "ref": "5d4ad06a-e737-4185-9fb0-47713814a16e",
       "rows": [
        [
         "Açaí, polpa, com xarope de guaraná e glucose",
         "110",
         "0,7",
         "3,7",
         "21,5",
         "1,7"
        ],
        [
         "Chuchu, cozido",
         "19",
         "0,4",
         "Tr",
         "4,8",
         "1"
        ],
        [
         "Pequi, cru",
         "205",
         "2,3",
         "18",
         "13",
         "19"
        ],
        [
         "Pipoca, com óleo de soja, sem sal",
         "448",
         "9,9",
         "15,9",
         "70,3",
         "14,3"
        ],
        [
         "Torrada, pão francês",
         "377",
         "10,5",
         "3,3",
         "74,6",
         "3,4"
        ]
       ],
       "shape": {
        "columns": 5,
        "rows": 5
       }
      },
      "text/html": [
       "<div>\n",
       "<style scoped>\n",
       "    .dataframe tbody tr th:only-of-type {\n",
       "        vertical-align: middle;\n",
       "    }\n",
       "\n",
       "    .dataframe tbody tr th {\n",
       "        vertical-align: top;\n",
       "    }\n",
       "\n",
       "    .dataframe thead th {\n",
       "        text-align: right;\n",
       "    }\n",
       "</style>\n",
       "<table border=\"1\" class=\"dataframe\">\n",
       "  <thead>\n",
       "    <tr style=\"text-align: right;\">\n",
       "      <th></th>\n",
       "      <th>Energia (kcal)</th>\n",
       "      <th>Proteína (g)</th>\n",
       "      <th>Lipídeos (g)</th>\n",
       "      <th>Carboidrato (g)</th>\n",
       "      <th>Fibra Alimentar (g)</th>\n",
       "    </tr>\n",
       "    <tr>\n",
       "      <th>Descrição dos alimentos</th>\n",
       "      <th></th>\n",
       "      <th></th>\n",
       "      <th></th>\n",
       "      <th></th>\n",
       "      <th></th>\n",
       "    </tr>\n",
       "  </thead>\n",
       "  <tbody>\n",
       "    <tr>\n",
       "      <th>Açaí, polpa, com xarope de guaraná e glucose</th>\n",
       "      <td>110</td>\n",
       "      <td>0,7</td>\n",
       "      <td>3,7</td>\n",
       "      <td>21,5</td>\n",
       "      <td>1,7</td>\n",
       "    </tr>\n",
       "    <tr>\n",
       "      <th>Chuchu, cozido</th>\n",
       "      <td>19</td>\n",
       "      <td>0,4</td>\n",
       "      <td>Tr</td>\n",
       "      <td>4,8</td>\n",
       "      <td>1</td>\n",
       "    </tr>\n",
       "    <tr>\n",
       "      <th>Pequi, cru</th>\n",
       "      <td>205</td>\n",
       "      <td>2,3</td>\n",
       "      <td>18</td>\n",
       "      <td>13</td>\n",
       "      <td>19</td>\n",
       "    </tr>\n",
       "    <tr>\n",
       "      <th>Pipoca, com óleo de soja, sem sal</th>\n",
       "      <td>448</td>\n",
       "      <td>9,9</td>\n",
       "      <td>15,9</td>\n",
       "      <td>70,3</td>\n",
       "      <td>14,3</td>\n",
       "    </tr>\n",
       "    <tr>\n",
       "      <th>Torrada, pão francês</th>\n",
       "      <td>377</td>\n",
       "      <td>10,5</td>\n",
       "      <td>3,3</td>\n",
       "      <td>74,6</td>\n",
       "      <td>3,4</td>\n",
       "    </tr>\n",
       "  </tbody>\n",
       "</table>\n",
       "</div>"
      ],
      "text/plain": [
       "                                             Energia (kcal) Proteína (g)  \\\n",
       "Descrição dos alimentos                                                    \n",
       "Açaí, polpa, com xarope de guaraná e glucose            110          0,7   \n",
       "Chuchu, cozido                                           19          0,4   \n",
       "Pequi, cru                                              205          2,3   \n",
       "Pipoca, com óleo de soja, sem sal                       448          9,9   \n",
       "Torrada, pão francês                                    377         10,5   \n",
       "\n",
       "                                             Lipídeos (g) Carboidrato (g)  \\\n",
       "Descrição dos alimentos                                                     \n",
       "Açaí, polpa, com xarope de guaraná e glucose          3,7            21,5   \n",
       "Chuchu, cozido                                         Tr             4,8   \n",
       "Pequi, cru                                             18              13   \n",
       "Pipoca, com óleo de soja, sem sal                    15,9            70,3   \n",
       "Torrada, pão francês                                  3,3            74,6   \n",
       "\n",
       "                                             Fibra Alimentar (g)  \n",
       "Descrição dos alimentos                                           \n",
       "Açaí, polpa, com xarope de guaraná e glucose                 1,7  \n",
       "Chuchu, cozido                                                 1  \n",
       "Pequi, cru                                                    19  \n",
       "Pipoca, com óleo de soja, sem sal                           14,3  \n",
       "Torrada, pão francês                                         3,4  "
      ]
     },
     "execution_count": 21,
     "metadata": {},
     "output_type": "execute_result"
    }
   ],
   "source": [
    "cols = [\n",
    "    'Descrição dos alimentos',\n",
    "    'Energia (kcal)',\n",
    "    'Proteína (g)',\n",
    "    'Lipídeos (g)',\n",
    "    'Carboidrato (g)',\n",
    "    'Fibra Alimentar (g)'\n",
    "]\n",
    "\n",
    "df = pd.read_csv(\"alimentos.csv\", sep=';', usecols=cols, index_col='Descrição dos alimentos')\n",
    "df.sample(5)"
   ]
  },
  {
   "cell_type": "code",
   "execution_count": 22,
   "id": "b931405e",
   "metadata": {},
   "outputs": [],
   "source": [
    "foods = [f\"- {element}\" for element in df.index.dropna().unique().tolist()]\n",
    "export = {\n",
    "    \"version\": \"3.1\",\n",
    "    \"nlu\": [\n",
    "        {\n",
    "            \"lookup\": \"alimento\",\n",
    "            \"examples\": \"\\n\".join(foods)\n",
    "        }\n",
    "    ]\n",
    "}\n",
    "\n",
    "with open(\"../data/lookup.yaml\", \"w\", encoding=\"utf-8\") as f:\n",
    "    dump(export, f, allow_unicode=True, sort_keys=False)"
   ]
  }
 ],
 "metadata": {
  "kernelspec": {
   "display_name": "venv",
   "language": "python",
   "name": "python3"
  },
  "language_info": {
   "codemirror_mode": {
    "name": "ipython",
    "version": 3
   },
   "file_extension": ".py",
   "mimetype": "text/x-python",
   "name": "python",
   "nbconvert_exporter": "python",
   "pygments_lexer": "ipython3",
   "version": "3.12.3"
  }
 },
 "nbformat": 4,
 "nbformat_minor": 5
}
